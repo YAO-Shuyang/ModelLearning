{
 "cells": [
  {
   "cell_type": "markdown",
   "id": "5b73cf24",
   "metadata": {},
   "source": [
    "<font face=\"Calibri\">.\n",
    "Citation\n",
    "--------\n",
    "\n",
    "Samsonovich, A., and McNaughton, B.L. (1997). Path Integration \n",
    "and Cognitive Mapping in a Continuous Attractor Neural Network \n",
    "Model. J. Neurosci. 17, 5900-5920. \n",
    "https://doi.org/10.1523/JNEUROSCI.17-15-05900.1997.\n",
    "\n",
    "They implemented the **`multichart map-based path integrator model`**\n",
    "(MPI).\n",
    "\n",
    "It involves the following components:\n",
    "----------\n",
    "`P`: An array of place unites implementing an attractor map\\\n",
    "`V`: an external sensory input vector\\\n",
    "`H`: an array of head direction unites\\\n",
    "`H_`: an array of angular velocity\\\n",
    "`M`: an array of velocity\\\n",
    "`R`: an array sensitie to both horizontal head direction and \\\n",
    "angular velocity\\\n",
    "`I`: an array of input units that receive input from P, H and M\n",
    "\n",
    "Identification of Components\n",
    "----\n",
    "- V Network (local view)\\\n",
    "high-level representations of the local sensory information and sends\n",
    "its output to the hippocampus mainly via the EC and perforant path. \n",
    "**`V = f(x, a)`**, where x is position and a is head direction. Function\n",
    "**`f`** is presumably smooth.\n",
    "- M Network\n",
    "- I Network\\\n",
    "Place cells are non-directional in 2d space, whereas neurons in subiculum, \n",
    "presubiculum, and parasubiculum have been with spatial and directional \n",
    "selectivity. These neurons can be considered as candidates for \n",
    "**`Integrator Cells`**, which is referred to as `I Network`"
   ]
  },
  {
   "cell_type": "code",
   "execution_count": null,
   "id": "2bddf5fc",
   "metadata": {},
   "outputs": [],
   "source": []
  },
  {
   "cell_type": "code",
   "execution_count": null,
   "id": "bc66929b",
   "metadata": {},
   "outputs": [],
   "source": [
    "\"\"\"\n",
    "Please find citation here:\n",
    "\n",
    "Samsonovich, A., and McNaughton, B.L. (1997). Path Integration \n",
    "and Cognitive Mapping in a Continuous Attractor Neural Network \n",
    "Model. J. Neurosci. 17, 5900-5920. \n",
    "https://doi.org/10.1523/JNEUROSCI.17-15-05900.1997.\n",
    "\n",
    "They implemented the multichart map-based path integrator model\n",
    "(MPI).\n",
    "\n",
    "It involves the following components:\n",
    "P: An array of place unites implementing an attractor map\n",
    "V: an external sensory input vector\n",
    "H: an array of head direction unites\n",
    "H_: an array of angular velocity\n",
    "M: an array of velocity\n",
    "R: an array sensitie to both horizontal head direction and \n",
    "angular velocity.\n",
    "I: an array of input units that receive input from P, H and M.\n",
    "\"\"\"\n",
    "\n",
    "import numpy as np\n",
    "\n",
    "class MPIModel(object):\n",
    "    def __init__(\n",
    "        self,\n",
    "        n_\n",
    "    )"
   ]
  }
 ],
 "metadata": {
  "kernelspec": {
   "display_name": "maze",
   "language": "python",
   "name": "python3"
  },
  "language_info": {
   "codemirror_mode": {
    "name": "ipython",
    "version": 3
   },
   "file_extension": ".py",
   "mimetype": "text/x-python",
   "name": "python",
   "nbconvert_exporter": "python",
   "pygments_lexer": "ipython3",
   "version": "3.10.14"
  }
 },
 "nbformat": 4,
 "nbformat_minor": 5
}
